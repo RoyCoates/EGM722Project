{
 "cells": [
  {
   "cell_type": "markdown",
   "id": "042b47bc-d7de-4ff7-8e38-829f0fc6a20d",
   "metadata": {},
   "source": [
    "EGM722 Project - Lighting Column Replacements and Drainage Cleaning for MMaRC Network B"
   ]
  },
  {
   "cell_type": "markdown",
   "id": "1cfcec8c-9bea-43a0-b026-ccb8d09a6c4d",
   "metadata": {},
   "source": [
    "# Imports the required packages"
   ]
  },
  {
   "cell_type": "code",
   "execution_count": null,
   "id": "c2721f53-90de-42c5-a0b8-1dadbe7cd2df",
   "metadata": {},
   "outputs": [],
   "source": [
    "import os\n",
    "import geopandas as gpd\n",
    "import matplotlib.pyplot as plt\n",
    "from cartopy.feature import ShapelyFeature\n",
    "import cartopy.crs as ccrs\n",
    "import matplotlib.patches as mpatches\n",
    "import matplotlib.lines as mline\n",
    "import folium"
   ]
  }
 ],
 "metadata": {
  "kernelspec": {
   "display_name": "Python 3 (ipykernel)",
   "language": "python",
   "name": "python3"
  },
  "language_info": {
   "codemirror_mode": {
    "name": "ipython",
    "version": 3
   },
   "file_extension": ".py",
   "mimetype": "text/x-python",
   "name": "python",
   "nbconvert_exporter": "python",
   "pygments_lexer": "ipython3",
   "version": "3.13.2"
  }
 },
 "nbformat": 4,
 "nbformat_minor": 5
}
